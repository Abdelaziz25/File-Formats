{
  "nbformat": 4,
  "nbformat_minor": 0,
  "metadata": {
    "colab": {
      "provenance": []
    },
    "kernelspec": {
      "name": "python3",
      "display_name": "Python 3"
    },
    "language_info": {
      "name": "python"
    }
  },
  "cells": [
    {
      "cell_type": "code",
      "source": [
        "pip install fastavro"
      ],
      "metadata": {
        "colab": {
          "base_uri": "https://localhost:8080/"
        },
        "id": "RqhhohttWp8r",
        "outputId": "554b4620-c743-42c0-b4e2-be418d80f663"
      },
      "execution_count": null,
      "outputs": [
        {
          "output_type": "stream",
          "name": "stdout",
          "text": [
            "Requirement already satisfied: fastavro in /usr/local/lib/python3.10/dist-packages (1.9.4)\n"
          ]
        }
      ]
    },
    {
      "cell_type": "markdown",
      "source": [
        "# **Convert json to MessagePack**"
      ],
      "metadata": {
        "id": "g1gm0kFYWvIa"
      }
    },
    {
      "cell_type": "code",
      "execution_count": null,
      "metadata": {
        "id": "k_0JijxwWZj5"
      },
      "outputs": [],
      "source": [
        "import json\n",
        "import msgpack\n",
        "\n",
        "\n",
        "with open('jsonsheet2.json', 'r') as file:\n",
        "    json_data = file.read()\n",
        "\n",
        "# Convert JSON to Python dict\n",
        "data = json.loads(json_data)\n",
        "\n",
        "msgpack_data = msgpack.packb(data)\n",
        "with open('msgpack_file.msgpack', 'wb') as file:\n",
        "    file.write(msgpack_data)"
      ]
    },
    {
      "cell_type": "markdown",
      "source": [
        "# **Convert json to avro**"
      ],
      "metadata": {
        "id": "a7RyoCebXUcZ"
      }
    },
    {
      "cell_type": "code",
      "source": [
        "import fastavro\n",
        "\n",
        "avro_schema = {\n",
        "    \"type\": \"record\",\n",
        "    \"name\": \"Menu\",\n",
        "    \"fields\": [\n",
        "        {\n",
        "            \"name\": \"menu\",\n",
        "            \"type\": {\n",
        "                \"type\": \"record\",\n",
        "                \"name\": \"MenuItems\",\n",
        "                \"fields\": [\n",
        "                    {\"name\": \"header\", \"type\": \"string\"},\n",
        "                    {\n",
        "                        \"name\": \"items\",\n",
        "                        \"type\": {\n",
        "                            \"type\": \"array\",\n",
        "                            \"items\": [\n",
        "                                \"null\",\n",
        "                                {\n",
        "                                    \"type\": \"record\",\n",
        "                                    \"name\": \"MenuItem\",\n",
        "                                    \"fields\": [\n",
        "                                        {\"name\": \"id\", \"type\": [\"null\", \"string\"]},\n",
        "                                        {\"name\": \"label\", \"type\": [\"null\", \"string\"]}\n",
        "                                    ]\n",
        "                                }\n",
        "                            ]\n",
        "                        }\n",
        "                    }\n",
        "                ]\n",
        "            }\n",
        "        }\n",
        "    ]\n",
        "}\n",
        "\n",
        "with open(\"data.avro\", \"wb\") as out:\n",
        "    fastavro.writer(out, avro_schema, [data])"
      ],
      "metadata": {
        "id": "YU-sjncJXP2C"
      },
      "execution_count": null,
      "outputs": []
    },
    {
      "cell_type": "markdown",
      "source": [
        "# **Convert json to proto Buffer**"
      ],
      "metadata": {
        "id": "4YHlwDr4Xig4"
      }
    },
    {
      "cell_type": "code",
      "source": [
        "!pip install protobuf"
      ],
      "metadata": {
        "colab": {
          "base_uri": "https://localhost:8080/"
        },
        "id": "jituvhYsaf6P",
        "outputId": "a4599061-680f-4904-a2cd-194e96ff95ac"
      },
      "execution_count": null,
      "outputs": [
        {
          "output_type": "stream",
          "name": "stdout",
          "text": [
            "Requirement already satisfied: protobuf in /usr/local/lib/python3.10/dist-packages (3.20.3)\n"
          ]
        }
      ]
    },
    {
      "cell_type": "code",
      "source": [
        "!protoc --python_out=. menu.proto"
      ],
      "metadata": {
        "id": "k0ZIRrlNXn7g"
      },
      "execution_count": null,
      "outputs": []
    },
    {
      "cell_type": "code",
      "source": [
        "import menu_pb2\n",
        "\n",
        "with open('jsonsheet2.json', 'r') as file:\n",
        "    json_data = file.read()\n",
        "\n",
        "\n",
        "data = json.loads(json_data)\n",
        "# Create a Menu protobuf message\n",
        "menu_proto = menu_pb2.Menu()\n",
        "menu_proto.header = data[\"menu\"][\"header\"]\n",
        "\n",
        "# Iterate over items in JSON and add them to Menu message\n",
        "for json_item in data[\"menu\"][\"items\"]:\n",
        "    proto_item = menu_proto.items.add()\n",
        "    if json_item is not None:\n",
        "        proto_item.id = json_item[\"id\"]\n",
        "        if \"label\" in json_item:\n",
        "            proto_item.label = json_item[\"label\"]\n",
        "\n",
        "# Serialize the Menu protobuf message to binary format\n",
        "menu_proto_bytes = menu_proto.SerializeToString()\n",
        "\n",
        "# Write the binary data to a file\n",
        "with open(\"data.proto\", \"wb\") as proto_file:\n",
        "    proto_file.write(menu_proto_bytes)\n",
        "\n",
        "print(\"Menu protobuf message written to file 'data.proto'\")"
      ],
      "metadata": {
        "colab": {
          "base_uri": "https://localhost:8080/"
        },
        "id": "C2K3mSeLa_Fm",
        "outputId": "f9c35770-85c4-46ed-d615-09a0090d7abb"
      },
      "execution_count": null,
      "outputs": [
        {
          "output_type": "stream",
          "name": "stdout",
          "text": [
            "Menu protobuf message written to file 'data.proto'\n"
          ]
        }
      ]
    },
    {
      "cell_type": "markdown",
      "source": [
        "# **Convert json to Thrift**"
      ],
      "metadata": {
        "id": "UkhgyTQpXonh"
      }
    },
    {
      "cell_type": "code",
      "source": [
        "!pip install thrift"
      ],
      "metadata": {
        "colab": {
          "base_uri": "https://localhost:8080/"
        },
        "id": "ITa0Jih9XsDY",
        "outputId": "610e8c9a-4121-4338-f34d-5519ddae2ea0"
      },
      "execution_count": null,
      "outputs": [
        {
          "output_type": "stream",
          "name": "stdout",
          "text": [
            "Requirement already satisfied: thrift in /usr/local/lib/python3.10/dist-packages (0.16.0)\n",
            "Requirement already satisfied: six>=1.7.2 in /usr/local/lib/python3.10/dist-packages (from thrift) (1.16.0)\n"
          ]
        }
      ]
    },
    {
      "cell_type": "code",
      "source": [
        "!apt-get install -y thrift-compiler"
      ],
      "metadata": {
        "colab": {
          "base_uri": "https://localhost:8080/"
        },
        "id": "yLzUi2PibvUG",
        "outputId": "093955ce-8582-4605-92c4-048d8e8b3137"
      },
      "execution_count": null,
      "outputs": [
        {
          "output_type": "stream",
          "name": "stdout",
          "text": [
            "Reading package lists... Done\n",
            "Building dependency tree... Done\n",
            "Reading state information... Done\n",
            "thrift-compiler is already the newest version (0.16.0-2).\n",
            "0 upgraded, 0 newly installed, 0 to remove and 35 not upgraded.\n"
          ]
        }
      ]
    },
    {
      "cell_type": "code",
      "source": [
        "!thrift --gen py Menu.thrift\n"
      ],
      "metadata": {
        "id": "-YTULCrYb-1-"
      },
      "execution_count": null,
      "outputs": []
    },
    {
      "cell_type": "code",
      "source": [
        "import sys\n",
        "sys.path.append('/content/gen-py')\n",
        "from thrift import Thrift\n",
        "from thrift.protocol import TJSONProtocol\n",
        "from thrift.transport import TTransport\n",
        "from thrift.protocol import TBinaryProtocol\n",
        "from menu.ttypes import Menu, MenuItem\n",
        "\n",
        "\n",
        "with open('jsonsheet2.json', 'r') as file:\n",
        "    json_data = file.read()\n",
        "data = json.loads(json_data)\n",
        "\n",
        "\n",
        "menu = Menu(header=data[\"menu\"][\"header\"], items=[])\n",
        "\n",
        "for item in data[\"menu\"][\"items\"]:\n",
        "    if item is not None:\n",
        "        menu_item = MenuItem(id=item[\"id\"], label=item.get(\"label\", \"\"))\n",
        "        menu.items.append(menu_item)\n",
        "\n",
        "# Serialize to Thrift binary format\n",
        "transport = TTransport.TMemoryBuffer()\n",
        "protocol = TBinaryProtocol.TBinaryProtocol(transport)\n",
        "menu.write(protocol)\n",
        "\n",
        "# Write serialized data to file\n",
        "with open(\"data.thrift\", \"wb\") as outfile:\n",
        "    outfile.write(transport.getvalue())"
      ],
      "metadata": {
        "id": "MlKa2BCvccW2"
      },
      "execution_count": null,
      "outputs": []
    },
    {
      "cell_type": "markdown",
      "source": [
        "# Repeat the same entry in this JSON file 100 times"
      ],
      "metadata": {
        "id": "kORQmQYwXw2K"
      }
    },
    {
      "cell_type": "markdown",
      "source": [
        "**convert json to messagePack**"
      ],
      "metadata": {
        "id": "myQqiM9bX5DD"
      }
    },
    {
      "cell_type": "code",
      "source": [
        "import json\n",
        "with open('jsonsheet2_100.json', 'r') as file:\n",
        "    json_data = file.read()\n",
        "\n",
        "\n",
        "# Convert JSON to Python dict\n",
        "data2 = json.loads(json_data)\n",
        "msgpack_data = msgpack.packb(data2)\n",
        "with open('msgpack_file_100.msgpack', 'wb') as file:\n",
        "    file.write(msgpack_data)"
      ],
      "metadata": {
        "id": "XvEbsflXX1lo"
      },
      "execution_count": null,
      "outputs": []
    },
    {
      "cell_type": "code",
      "source": [
        "with open('jsonsheet2_100.json', 'r') as file:\n",
        "    json_data = file.read()\n",
        "\n",
        "# Convert JSON to Python dict\n",
        "data = json.loads(json_data)\n",
        "\n",
        "avro_schema = {\n",
        "    \"type\": \"record\",\n",
        "    \"name\": \"Menu\",\n",
        "    \"fields\": [\n",
        "        {\n",
        "            \"name\": \"menu\",\n",
        "            \"type\": {\n",
        "                \"type\": \"record\",\n",
        "                \"name\": \"MenuItems\",\n",
        "                \"fields\": [\n",
        "                    {\"name\": \"header\", \"type\": \"string\"},\n",
        "                    {\n",
        "                        \"name\": \"items\",\n",
        "                        \"type\": {\n",
        "                            \"type\": \"array\",\n",
        "                            \"items\": [\n",
        "                                \"null\",\n",
        "                                {\n",
        "                                    \"type\": \"record\",\n",
        "                                    \"name\": \"MenuItem\",\n",
        "                                    \"fields\": [\n",
        "                                        {\"name\": \"id\", \"type\": [\"null\", \"string\"]},\n",
        "                                        {\"name\": \"label\", \"type\": [\"null\", \"string\"]}\n",
        "                                    ]\n",
        "                                }\n",
        "                            ]\n",
        "                        }\n",
        "                    }\n",
        "                ]\n",
        "            }\n",
        "        }\n",
        "    ]\n",
        "}\n",
        "\n",
        "with open(\"data_100.avro\", \"wb\") as out:\n",
        "    fastavro.writer(out, avro_schema, [data])"
      ],
      "metadata": {
        "id": "rOP0GavqYJY4"
      },
      "execution_count": null,
      "outputs": []
    },
    {
      "cell_type": "markdown",
      "source": [
        "Convert json to proto Buffer"
      ],
      "metadata": {
        "id": "st6zzgjOYV64"
      }
    },
    {
      "cell_type": "code",
      "source": [
        "import menu_pb2\n",
        "\n",
        "with open('jsonsheet2_100.json', 'r') as file:\n",
        "    json_data = file.read()\n",
        "\n",
        "\n",
        "data = json.loads(json_data)\n",
        "# Create a Menu protobuf message\n",
        "menu_proto = menu_pb2.Menu()\n",
        "menu_proto.header = data[\"menu\"][\"header\"]\n",
        "\n",
        "# Iterate over items in JSON and add them to Menu message\n",
        "for json_item in data[\"menu\"][\"items\"]:\n",
        "    proto_item = menu_proto.items.add()\n",
        "    if json_item is not None:\n",
        "        proto_item.id = json_item[\"id\"]\n",
        "        if \"label\" in json_item:\n",
        "            proto_item.label = json_item[\"label\"]\n",
        "\n",
        "# Serialize the Menu protobuf message to binary format\n",
        "menu_proto_bytes = menu_proto.SerializeToString()\n",
        "\n",
        "# Write the binary data to a file\n",
        "with open(\"data_100.proto\", \"wb\") as proto_file:\n",
        "    proto_file.write(menu_proto_bytes)\n",
        "\n",
        "print(\"Menu protobuf message written to file 'data_100.proto'\")"
      ],
      "metadata": {
        "colab": {
          "base_uri": "https://localhost:8080/"
        },
        "id": "5cQoqQorYa-g",
        "outputId": "48057d37-9a2e-4e19-fc8e-40f79de19cc8"
      },
      "execution_count": null,
      "outputs": [
        {
          "output_type": "stream",
          "name": "stdout",
          "text": [
            "Menu protobuf message written to file 'data_100.proto'\n"
          ]
        }
      ]
    },
    {
      "cell_type": "markdown",
      "source": [
        "convert json to Thrift"
      ],
      "metadata": {
        "id": "fYlr6gHKYed3"
      }
    },
    {
      "cell_type": "code",
      "source": [
        "import sys\n",
        "sys.path.append('/content/gen-py')\n",
        "from thrift import Thrift\n",
        "from thrift.protocol import TJSONProtocol\n",
        "from thrift.transport import TTransport\n",
        "from thrift.protocol import TBinaryProtocol\n",
        "from menu.ttypes import Menu, MenuItem\n",
        "\n",
        "\n",
        "with open('jsonsheet2_100.json', 'r') as file:\n",
        "    json_data = file.read()\n",
        "data = json.loads(json_data)\n",
        "\n",
        "\n",
        "menu = Menu(header=data[\"menu\"][\"header\"], items=[])\n",
        "\n",
        "for item in data[\"menu\"][\"items\"]:\n",
        "    if item is not None:\n",
        "        menu_item = MenuItem(id=item[\"id\"], label=item.get(\"label\", \"\"))\n",
        "        menu.items.append(menu_item)\n",
        "\n",
        "# Serialize to Thrift binary format\n",
        "transport = TTransport.TMemoryBuffer()\n",
        "protocol = TBinaryProtocol.TBinaryProtocol(transport)\n",
        "menu.write(protocol)\n",
        "\n",
        "# Write serialized data to file\n",
        "with open(\"data_100.thrift\", \"wb\") as outfile:\n",
        "    outfile.write(transport.getvalue())"
      ],
      "metadata": {
        "id": "H9POMT_yYhX4"
      },
      "execution_count": null,
      "outputs": []
    },
    {
      "cell_type": "markdown",
      "source": [
        "# Calcualte sizes of files"
      ],
      "metadata": {
        "id": "R0juNlAMgP-i"
      }
    },
    {
      "cell_type": "code",
      "source": [
        "import os\n",
        "\n",
        "directory = \"/content\"\n",
        "\n",
        "for filename in os.listdir(directory):\n",
        "    if filename.endswith(\".json\"):\n",
        "        file_stats_json = os.stat(os.path.join(directory, filename))\n",
        "        print(f'{filename} File Size in Bytes is {file_stats_json.st_size}')\n",
        "    elif filename.endswith(\".msgpack\"):\n",
        "        file_stats_msgpack = os.stat(os.path.join(directory, filename))\n",
        "        print(f'{filename} File Size in Bytes is {file_stats_msgpack.st_size}')\n",
        "    elif filename.endswith(\".avro\"):\n",
        "        file_stats_avro = os.stat(os.path.join(directory, filename))\n",
        "        print(f'{filename} File Size in Bytes is {file_stats_avro.st_size}')\n",
        "    elif filename.endswith(\".proto\"):\n",
        "        file_stats_proto = os.stat(os.path.join(directory, filename))\n",
        "        print(f'{filename} File Size in Bytes is {file_stats_proto.st_size}')\n",
        "    elif filename.endswith(\".thrift\"):\n",
        "        file_stats_thrift = os.stat(os.path.join(directory, filename))\n",
        "        print(f'{filename} File Size in Bytes is {file_stats_thrift.st_size}')\n"
      ],
      "metadata": {
        "colab": {
          "base_uri": "https://localhost:8080/"
        },
        "id": "JrS3zw7KgPHb",
        "outputId": "e7d1b7b3-a729-42c7-b5e4-802e78e7e6d4"
      },
      "execution_count": null,
      "outputs": [
        {
          "output_type": "stream",
          "name": "stdout",
          "text": [
            "jsonsheet2_100.json File Size in Bytes is 67801\n",
            "msgpack_file_100.msgpack File Size in Bytes is 437\n",
            "data.proto File Size in Bytes is 341\n",
            "menu.proto File Size in Bytes is 149\n",
            "Menu.thrift File Size in Bytes is 210\n",
            "msgpack_file.msgpack File Size in Bytes is 437\n",
            "data.thrift File Size in Bytes is 521\n",
            "data_100.avro File Size in Bytes is 768\n",
            "data_100.thrift File Size in Bytes is 521\n",
            "jsonsheet2.json File Size in Bytes is 679\n",
            "data_100.proto File Size in Bytes is 341\n",
            "data.avro File Size in Bytes is 768\n"
          ]
        }
      ]
    }
  ]
}